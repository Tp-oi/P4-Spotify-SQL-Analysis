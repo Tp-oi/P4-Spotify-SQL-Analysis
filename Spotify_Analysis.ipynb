{
 "cells": [
  {
   "cell_type": "markdown",
   "id": "dc7226c6",
   "metadata": {},
   "source": [
    "# Spotify Analysis Project"
   ]
  },
  {
   "cell_type": "markdown",
   "id": "8c88f894",
   "metadata": {},
   "source": [
    "### First instal python libraries: pip install pandas openpyxl sqlalchemy psycopg2-binary"
   ]
  },
  {
   "cell_type": "code",
   "execution_count": null,
   "id": "b39ad10a",
   "metadata": {},
   "outputs": [],
   "source": []
  },
  {
   "cell_type": "code",
   "execution_count": 3,
   "id": "910075b1",
   "metadata": {},
   "outputs": [
    {
     "name": "stdout",
     "output_type": "stream",
     "text": [
      "     Artist                                          Track  \\\n",
      "0  Gorillaz                                 Feel Good Inc.   \n",
      "1  Gorillaz                                Rhinestone Eyes   \n",
      "2  Gorillaz  New Gold (feat. Tame Impala and Bootie Brown)   \n",
      "3  Gorillaz                             On Melancholy Hill   \n",
      "4  Gorillaz                                 Clint Eastwood   \n",
      "\n",
      "                                           Album Album_type  Danceability  \\\n",
      "0                                     Demon Days      album         0.818   \n",
      "1                                  Plastic Beach      album         0.676   \n",
      "2  New Gold (feat. Tame Impala and Bootie Brown)     single         0.695   \n",
      "3                                  Plastic Beach      album         0.689   \n",
      "4                                       Gorillaz      album         0.663   \n",
      "\n",
      "   Energy  Loudness  Speechiness  Acousticness  Instrumentalness  ...  \\\n",
      "0   0.705    -6.679       0.1770      0.008360          0.002330  ...   \n",
      "1   0.703    -5.815       0.0302      0.086900          0.000687  ...   \n",
      "2   0.923    -3.930       0.0522      0.042500          0.046900  ...   \n",
      "3   0.739    -5.810       0.0260      0.000015          0.509000  ...   \n",
      "4   0.694    -8.627       0.1710      0.025300          0.000000  ...   \n",
      "\n",
      "                                               Title   Channel      Views  \\\n",
      "0         Gorillaz - Feel Good Inc. (Official Video)  Gorillaz  693555221   \n",
      "1  Gorillaz - Rhinestone Eyes [Storyboard Film] (...  Gorillaz   72011645   \n",
      "2  Gorillaz - New Gold ft. Tame Impala & Bootie B...  Gorillaz    8435055   \n",
      "3     Gorillaz - On Melancholy Hill (Official Video)  Gorillaz  211754952   \n",
      "4         Gorillaz - Clint Eastwood (Official Video)  Gorillaz  618480958   \n",
      "\n",
      "     Likes Comments Licensed  official_video      Stream  EnergyLiveness  \\\n",
      "0  6220896   169907        1               1  1040234854        1.150082   \n",
      "1  1079128    31003        1               1   310083733       15.183585   \n",
      "2   282142     7399        1               1    63063467        7.956897   \n",
      "3  1788577    55229        1               1   434663559       11.546875   \n",
      "4  6197318   155930        1               1   617259738        9.942693   \n",
      "\n",
      "   most_playedon  \n",
      "0        Spotify  \n",
      "1        Spotify  \n",
      "2        Spotify  \n",
      "3        Spotify  \n",
      "4        Youtube  \n",
      "\n",
      "[5 rows x 24 columns]\n"
     ]
    }
   ],
   "source": [
    "## next read the excel file\n",
    "\n",
    "import pandas as pd\n",
    "\n",
    "df = pd.read_excel('Spotify_dataset.xlsx', engine='openpyxl')\n",
    "print(df.head())"
   ]
  },
  {
   "cell_type": "code",
   "execution_count": null,
   "id": "f82b0266",
   "metadata": {},
   "outputs": [],
   "source": []
  }
 ],
 "metadata": {
  "kernelspec": {
   "display_name": "base",
   "language": "python",
   "name": "python3"
  },
  "language_info": {
   "codemirror_mode": {
    "name": "ipython",
    "version": 3
   },
   "file_extension": ".py",
   "mimetype": "text/x-python",
   "name": "python",
   "nbconvert_exporter": "python",
   "pygments_lexer": "ipython3",
   "version": "3.12.7"
  }
 },
 "nbformat": 4,
 "nbformat_minor": 5
}
